{
  "nbformat": 4,
  "nbformat_minor": 0,
  "metadata": {
    "colab": {
      "provenance": []
    },
    "kernelspec": {
      "name": "python3",
      "display_name": "Python 3"
    },
    "language_info": {
      "name": "python"
    }
  },
  "cells": [
    {
      "cell_type": "code",
      "source": [
        "from google.colab import drive\n",
        "\n",
        "\n",
        "\n",
        "drive.mount('/content/gdrive/')"
      ],
      "metadata": {
        "colab": {
          "base_uri": "https://localhost:8080/"
        },
        "id": "_Z-9iuMguxQx",
        "outputId": "a038dbbc-d6e7-4f3e-811a-cb79b5d00f32"
      },
      "execution_count": null,
      "outputs": [
        {
          "output_type": "stream",
          "name": "stdout",
          "text": [
            "Drive already mounted at /content/gdrive/; to attempt to forcibly remount, call drive.mount(\"/content/gdrive/\", force_remount=True).\n"
          ]
        }
      ]
    },
    {
      "cell_type": "code",
      "execution_count": null,
      "metadata": {
        "id": "0kftqZv1sscP"
      },
      "outputs": [],
      "source": [
        "import pandas as pd\n",
        "# Load data\n",
        "melb_data = pd.read_csv('gdrive/MyDrive/bacasestudy/melb_data.csv')\n",
        "\n",
        "from sklearn.ensemble import RandomForestRegressor\n",
        "from sklearn.metrics import mean_absolute_error\n",
        "from sklearn.model_selection import train_test_split\n",
        "\n",
        "melb_target = melb_data.Price\n",
        "melb_predictors = melb_data.drop(['Price'], axis=1)\n",
        "\n",
        "\n",
        "# For the sake of keeping the example simple, we'll use only numeric predictors.\n",
        "melb_numeric_predictors = melb_predictors.select_dtypes(exclude=['object'])\n",
        "\n",
        "X_train, X_test, y_train, y_test = train_test_split(melb_predictors, melb_target, test_size = 0.4,random_state=42)"
      ]
    },
    {
      "cell_type": "markdown",
      "source": [
        "Get Model Score from Dropping Columns with Missing Values¶\n"
      ],
      "metadata": {
        "id": "DtQ-1RC-tzJu"
      }
    },
    {
      "cell_type": "code",
      "source": [
        "cols_with_missing = [col for col in X_train.columns\n",
        "                                 if X_train[col].isnull().any()]\n",
        "reduced_X_train = X_train.drop(cols_with_missing, axis=1)\n",
        "reduced_X_test  = X_test.drop(cols_with_missing, axis=1)\n"
      ],
      "metadata": {
        "colab": {
          "base_uri": "https://localhost:8080/"
        },
        "id": "RhtP4m7_tsht",
        "outputId": "0c200418-9cec-44c0-8974-e99e9fcd6e65"
      },
      "execution_count": null,
      "outputs": [
        {
          "output_type": "stream",
          "name": "stdout",
          "text": [
            "Mean Absolute Error from dropping columns with Missing Values:\n"
          ]
        }
      ]
    },
    {
      "cell_type": "markdown",
      "source": [
        "Get Model Score from Imputation"
      ],
      "metadata": {
        "id": "Hg9G_DHgt8Wh"
      }
    },
    {
      "cell_type": "code",
      "source": [
        "from sklearn.impute import SimpleImputer\n",
        "\n",
        "my_imputer = SimpleImputer( strategy='constant', fill_value=\"kerala govt\")\n",
        "imputed_X_train = my_imputer.fit_transform(X_train)\n",
        "imputed_X_test = my_imputer.transform(X_test)\n"
      ],
      "metadata": {
        "colab": {
          "base_uri": "https://localhost:8080/"
        },
        "id": "08cDfXgvuDI3",
        "outputId": "1d9991a4-1874-409c-f613-a6b8ad160c18"
      },
      "execution_count": null,
      "outputs": [
        {
          "output_type": "stream",
          "name": "stdout",
          "text": [
            "Mean Absolute Error from Imputation:\n"
          ]
        }
      ]
    },
    {
      "cell_type": "markdown",
      "source": [
        "Get Score from Imputation with Extra Columns Showing What Was Imputed¶\n"
      ],
      "metadata": {
        "id": "H_51Pxspt8c0"
      }
    },
    {
      "cell_type": "code",
      "source": [
        "imputed_X_train_plus = X_train.copy()\n",
        "imputed_X_test_plus = X_test.copy()\n",
        "\n",
        "cols_with_missing = (col for col in X_train.columns\n",
        "                                 if X_train[col].isnull().any())\n",
        "for col in cols_with_missing:\n",
        "    imputed_X_train_plus[col + '_was_missing'] = imputed_X_train_plus[col].isnull()\n",
        "    imputed_X_test_plus[col + '_was_missing'] = imputed_X_test_plus[col].isnull()\n",
        "\n",
        "from sklearn.impute import SimpleImputer\n",
        "\n",
        "my_imputer = SimpleImputer( strategy='constant', fill_value=\"kerala govt\")\n",
        "imputed_X_train_plus = my_imputer.fit_transform(imputed_X_train_plus)\n",
        "imputed_X_test_plus = my_imputer.transform(imputed_X_test_plus)\n",
        "\n"
      ],
      "metadata": {
        "id": "nJjENwzet7iD"
      },
      "execution_count": null,
      "outputs": []
    },
    {
      "cell_type": "markdown",
      "source": [
        "Correlation analysis"
      ],
      "metadata": {
        "id": "GSLdxacat-x4"
      }
    },
    {
      "cell_type": "code",
      "source": [
        "melb_data.corr()"
      ],
      "metadata": {
        "colab": {
          "base_uri": "https://localhost:8080/",
          "height": 521
        },
        "id": "rqHjZAHZzriW",
        "outputId": "9f1ddc46-515b-4946-be32-cce7dd58bf7f"
      },
      "execution_count": null,
      "outputs": [
        {
          "output_type": "execute_result",
          "data": {
            "text/plain": [
              "                  Rooms     Price  Distance  Postcode  Bedroom2  Bathroom  \\\n",
              "Rooms          1.000000  0.496634  0.294203  0.055303  0.944190  0.592934   \n",
              "Price          0.496634  1.000000 -0.162522  0.107867  0.475951  0.467038   \n",
              "Distance       0.294203 -0.162522  1.000000  0.431514  0.295927  0.127155   \n",
              "Postcode       0.055303  0.107867  0.431514  1.000000  0.060584  0.113664   \n",
              "Bedroom2       0.944190  0.475951  0.295927  0.060584  1.000000  0.584685   \n",
              "Bathroom       0.592934  0.467038  0.127155  0.113664  0.584685  1.000000   \n",
              "Car            0.408483  0.238979  0.262994  0.050289  0.405325  0.322246   \n",
              "Landsize       0.025678  0.037507  0.025004  0.024558  0.025646  0.037130   \n",
              "BuildingArea   0.124127  0.090981  0.099481  0.055475  0.122319  0.111933   \n",
              "YearBuilt     -0.065413 -0.323617  0.246379  0.032863 -0.053319  0.152702   \n",
              "Lattitude      0.015948 -0.212934 -0.130723 -0.406104  0.015925 -0.070594   \n",
              "Longtitude     0.100771  0.203656  0.239425  0.445357  0.102238  0.118971   \n",
              "Propertycount -0.081530 -0.042153 -0.054910  0.062304 -0.081350 -0.052201   \n",
              "\n",
              "                    Car  Landsize  BuildingArea  YearBuilt  Lattitude  \\\n",
              "Rooms          0.408483  0.025678      0.124127  -0.065413   0.015948   \n",
              "Price          0.238979  0.037507      0.090981  -0.323617  -0.212934   \n",
              "Distance       0.262994  0.025004      0.099481   0.246379  -0.130723   \n",
              "Postcode       0.050289  0.024558      0.055475   0.032863  -0.406104   \n",
              "Bedroom2       0.405325  0.025646      0.122319  -0.053319   0.015925   \n",
              "Bathroom       0.322246  0.037130      0.111933   0.152702  -0.070594   \n",
              "Car            1.000000  0.026770      0.096101   0.104515  -0.001963   \n",
              "Landsize       0.026770  1.000000      0.500485   0.036451   0.009695   \n",
              "BuildingArea   0.096101  0.500485      1.000000   0.019665   0.043420   \n",
              "YearBuilt      0.104515  0.036451      0.019665   1.000000   0.060445   \n",
              "Lattitude     -0.001963  0.009695      0.043420   0.060445   1.000000   \n",
              "Longtitude     0.063395  0.010833     -0.023810  -0.003470  -0.357634   \n",
              "Propertycount -0.024295 -0.006854     -0.028840   0.006361   0.047086   \n",
              "\n",
              "               Longtitude  Propertycount  \n",
              "Rooms            0.100771      -0.081530  \n",
              "Price            0.203656      -0.042153  \n",
              "Distance         0.239425      -0.054910  \n",
              "Postcode         0.445357       0.062304  \n",
              "Bedroom2         0.102238      -0.081350  \n",
              "Bathroom         0.118971      -0.052201  \n",
              "Car              0.063395      -0.024295  \n",
              "Landsize         0.010833      -0.006854  \n",
              "BuildingArea    -0.023810      -0.028840  \n",
              "YearBuilt       -0.003470       0.006361  \n",
              "Lattitude       -0.357634       0.047086  \n",
              "Longtitude       1.000000       0.065988  \n",
              "Propertycount    0.065988       1.000000  "
            ],
            "text/html": [
              "\n",
              "  <div id=\"df-64f5c2a2-d828-4567-af5c-af0900dbe17b\">\n",
              "    <div class=\"colab-df-container\">\n",
              "      <div>\n",
              "<style scoped>\n",
              "    .dataframe tbody tr th:only-of-type {\n",
              "        vertical-align: middle;\n",
              "    }\n",
              "\n",
              "    .dataframe tbody tr th {\n",
              "        vertical-align: top;\n",
              "    }\n",
              "\n",
              "    .dataframe thead th {\n",
              "        text-align: right;\n",
              "    }\n",
              "</style>\n",
              "<table border=\"1\" class=\"dataframe\">\n",
              "  <thead>\n",
              "    <tr style=\"text-align: right;\">\n",
              "      <th></th>\n",
              "      <th>Rooms</th>\n",
              "      <th>Price</th>\n",
              "      <th>Distance</th>\n",
              "      <th>Postcode</th>\n",
              "      <th>Bedroom2</th>\n",
              "      <th>Bathroom</th>\n",
              "      <th>Car</th>\n",
              "      <th>Landsize</th>\n",
              "      <th>BuildingArea</th>\n",
              "      <th>YearBuilt</th>\n",
              "      <th>Lattitude</th>\n",
              "      <th>Longtitude</th>\n",
              "      <th>Propertycount</th>\n",
              "    </tr>\n",
              "  </thead>\n",
              "  <tbody>\n",
              "    <tr>\n",
              "      <th>Rooms</th>\n",
              "      <td>1.000000</td>\n",
              "      <td>0.496634</td>\n",
              "      <td>0.294203</td>\n",
              "      <td>0.055303</td>\n",
              "      <td>0.944190</td>\n",
              "      <td>0.592934</td>\n",
              "      <td>0.408483</td>\n",
              "      <td>0.025678</td>\n",
              "      <td>0.124127</td>\n",
              "      <td>-0.065413</td>\n",
              "      <td>0.015948</td>\n",
              "      <td>0.100771</td>\n",
              "      <td>-0.081530</td>\n",
              "    </tr>\n",
              "    <tr>\n",
              "      <th>Price</th>\n",
              "      <td>0.496634</td>\n",
              "      <td>1.000000</td>\n",
              "      <td>-0.162522</td>\n",
              "      <td>0.107867</td>\n",
              "      <td>0.475951</td>\n",
              "      <td>0.467038</td>\n",
              "      <td>0.238979</td>\n",
              "      <td>0.037507</td>\n",
              "      <td>0.090981</td>\n",
              "      <td>-0.323617</td>\n",
              "      <td>-0.212934</td>\n",
              "      <td>0.203656</td>\n",
              "      <td>-0.042153</td>\n",
              "    </tr>\n",
              "    <tr>\n",
              "      <th>Distance</th>\n",
              "      <td>0.294203</td>\n",
              "      <td>-0.162522</td>\n",
              "      <td>1.000000</td>\n",
              "      <td>0.431514</td>\n",
              "      <td>0.295927</td>\n",
              "      <td>0.127155</td>\n",
              "      <td>0.262994</td>\n",
              "      <td>0.025004</td>\n",
              "      <td>0.099481</td>\n",
              "      <td>0.246379</td>\n",
              "      <td>-0.130723</td>\n",
              "      <td>0.239425</td>\n",
              "      <td>-0.054910</td>\n",
              "    </tr>\n",
              "    <tr>\n",
              "      <th>Postcode</th>\n",
              "      <td>0.055303</td>\n",
              "      <td>0.107867</td>\n",
              "      <td>0.431514</td>\n",
              "      <td>1.000000</td>\n",
              "      <td>0.060584</td>\n",
              "      <td>0.113664</td>\n",
              "      <td>0.050289</td>\n",
              "      <td>0.024558</td>\n",
              "      <td>0.055475</td>\n",
              "      <td>0.032863</td>\n",
              "      <td>-0.406104</td>\n",
              "      <td>0.445357</td>\n",
              "      <td>0.062304</td>\n",
              "    </tr>\n",
              "    <tr>\n",
              "      <th>Bedroom2</th>\n",
              "      <td>0.944190</td>\n",
              "      <td>0.475951</td>\n",
              "      <td>0.295927</td>\n",
              "      <td>0.060584</td>\n",
              "      <td>1.000000</td>\n",
              "      <td>0.584685</td>\n",
              "      <td>0.405325</td>\n",
              "      <td>0.025646</td>\n",
              "      <td>0.122319</td>\n",
              "      <td>-0.053319</td>\n",
              "      <td>0.015925</td>\n",
              "      <td>0.102238</td>\n",
              "      <td>-0.081350</td>\n",
              "    </tr>\n",
              "    <tr>\n",
              "      <th>Bathroom</th>\n",
              "      <td>0.592934</td>\n",
              "      <td>0.467038</td>\n",
              "      <td>0.127155</td>\n",
              "      <td>0.113664</td>\n",
              "      <td>0.584685</td>\n",
              "      <td>1.000000</td>\n",
              "      <td>0.322246</td>\n",
              "      <td>0.037130</td>\n",
              "      <td>0.111933</td>\n",
              "      <td>0.152702</td>\n",
              "      <td>-0.070594</td>\n",
              "      <td>0.118971</td>\n",
              "      <td>-0.052201</td>\n",
              "    </tr>\n",
              "    <tr>\n",
              "      <th>Car</th>\n",
              "      <td>0.408483</td>\n",
              "      <td>0.238979</td>\n",
              "      <td>0.262994</td>\n",
              "      <td>0.050289</td>\n",
              "      <td>0.405325</td>\n",
              "      <td>0.322246</td>\n",
              "      <td>1.000000</td>\n",
              "      <td>0.026770</td>\n",
              "      <td>0.096101</td>\n",
              "      <td>0.104515</td>\n",
              "      <td>-0.001963</td>\n",
              "      <td>0.063395</td>\n",
              "      <td>-0.024295</td>\n",
              "    </tr>\n",
              "    <tr>\n",
              "      <th>Landsize</th>\n",
              "      <td>0.025678</td>\n",
              "      <td>0.037507</td>\n",
              "      <td>0.025004</td>\n",
              "      <td>0.024558</td>\n",
              "      <td>0.025646</td>\n",
              "      <td>0.037130</td>\n",
              "      <td>0.026770</td>\n",
              "      <td>1.000000</td>\n",
              "      <td>0.500485</td>\n",
              "      <td>0.036451</td>\n",
              "      <td>0.009695</td>\n",
              "      <td>0.010833</td>\n",
              "      <td>-0.006854</td>\n",
              "    </tr>\n",
              "    <tr>\n",
              "      <th>BuildingArea</th>\n",
              "      <td>0.124127</td>\n",
              "      <td>0.090981</td>\n",
              "      <td>0.099481</td>\n",
              "      <td>0.055475</td>\n",
              "      <td>0.122319</td>\n",
              "      <td>0.111933</td>\n",
              "      <td>0.096101</td>\n",
              "      <td>0.500485</td>\n",
              "      <td>1.000000</td>\n",
              "      <td>0.019665</td>\n",
              "      <td>0.043420</td>\n",
              "      <td>-0.023810</td>\n",
              "      <td>-0.028840</td>\n",
              "    </tr>\n",
              "    <tr>\n",
              "      <th>YearBuilt</th>\n",
              "      <td>-0.065413</td>\n",
              "      <td>-0.323617</td>\n",
              "      <td>0.246379</td>\n",
              "      <td>0.032863</td>\n",
              "      <td>-0.053319</td>\n",
              "      <td>0.152702</td>\n",
              "      <td>0.104515</td>\n",
              "      <td>0.036451</td>\n",
              "      <td>0.019665</td>\n",
              "      <td>1.000000</td>\n",
              "      <td>0.060445</td>\n",
              "      <td>-0.003470</td>\n",
              "      <td>0.006361</td>\n",
              "    </tr>\n",
              "    <tr>\n",
              "      <th>Lattitude</th>\n",
              "      <td>0.015948</td>\n",
              "      <td>-0.212934</td>\n",
              "      <td>-0.130723</td>\n",
              "      <td>-0.406104</td>\n",
              "      <td>0.015925</td>\n",
              "      <td>-0.070594</td>\n",
              "      <td>-0.001963</td>\n",
              "      <td>0.009695</td>\n",
              "      <td>0.043420</td>\n",
              "      <td>0.060445</td>\n",
              "      <td>1.000000</td>\n",
              "      <td>-0.357634</td>\n",
              "      <td>0.047086</td>\n",
              "    </tr>\n",
              "    <tr>\n",
              "      <th>Longtitude</th>\n",
              "      <td>0.100771</td>\n",
              "      <td>0.203656</td>\n",
              "      <td>0.239425</td>\n",
              "      <td>0.445357</td>\n",
              "      <td>0.102238</td>\n",
              "      <td>0.118971</td>\n",
              "      <td>0.063395</td>\n",
              "      <td>0.010833</td>\n",
              "      <td>-0.023810</td>\n",
              "      <td>-0.003470</td>\n",
              "      <td>-0.357634</td>\n",
              "      <td>1.000000</td>\n",
              "      <td>0.065988</td>\n",
              "    </tr>\n",
              "    <tr>\n",
              "      <th>Propertycount</th>\n",
              "      <td>-0.081530</td>\n",
              "      <td>-0.042153</td>\n",
              "      <td>-0.054910</td>\n",
              "      <td>0.062304</td>\n",
              "      <td>-0.081350</td>\n",
              "      <td>-0.052201</td>\n",
              "      <td>-0.024295</td>\n",
              "      <td>-0.006854</td>\n",
              "      <td>-0.028840</td>\n",
              "      <td>0.006361</td>\n",
              "      <td>0.047086</td>\n",
              "      <td>0.065988</td>\n",
              "      <td>1.000000</td>\n",
              "    </tr>\n",
              "  </tbody>\n",
              "</table>\n",
              "</div>\n",
              "      <button class=\"colab-df-convert\" onclick=\"convertToInteractive('df-64f5c2a2-d828-4567-af5c-af0900dbe17b')\"\n",
              "              title=\"Convert this dataframe to an interactive table.\"\n",
              "              style=\"display:none;\">\n",
              "        \n",
              "  <svg xmlns=\"http://www.w3.org/2000/svg\" height=\"24px\"viewBox=\"0 0 24 24\"\n",
              "       width=\"24px\">\n",
              "    <path d=\"M0 0h24v24H0V0z\" fill=\"none\"/>\n",
              "    <path d=\"M18.56 5.44l.94 2.06.94-2.06 2.06-.94-2.06-.94-.94-2.06-.94 2.06-2.06.94zm-11 1L8.5 8.5l.94-2.06 2.06-.94-2.06-.94L8.5 2.5l-.94 2.06-2.06.94zm10 10l.94 2.06.94-2.06 2.06-.94-2.06-.94-.94-2.06-.94 2.06-2.06.94z\"/><path d=\"M17.41 7.96l-1.37-1.37c-.4-.4-.92-.59-1.43-.59-.52 0-1.04.2-1.43.59L10.3 9.45l-7.72 7.72c-.78.78-.78 2.05 0 2.83L4 21.41c.39.39.9.59 1.41.59.51 0 1.02-.2 1.41-.59l7.78-7.78 2.81-2.81c.8-.78.8-2.07 0-2.86zM5.41 20L4 18.59l7.72-7.72 1.47 1.35L5.41 20z\"/>\n",
              "  </svg>\n",
              "      </button>\n",
              "      \n",
              "  <style>\n",
              "    .colab-df-container {\n",
              "      display:flex;\n",
              "      flex-wrap:wrap;\n",
              "      gap: 12px;\n",
              "    }\n",
              "\n",
              "    .colab-df-convert {\n",
              "      background-color: #E8F0FE;\n",
              "      border: none;\n",
              "      border-radius: 50%;\n",
              "      cursor: pointer;\n",
              "      display: none;\n",
              "      fill: #1967D2;\n",
              "      height: 32px;\n",
              "      padding: 0 0 0 0;\n",
              "      width: 32px;\n",
              "    }\n",
              "\n",
              "    .colab-df-convert:hover {\n",
              "      background-color: #E2EBFA;\n",
              "      box-shadow: 0px 1px 2px rgba(60, 64, 67, 0.3), 0px 1px 3px 1px rgba(60, 64, 67, 0.15);\n",
              "      fill: #174EA6;\n",
              "    }\n",
              "\n",
              "    [theme=dark] .colab-df-convert {\n",
              "      background-color: #3B4455;\n",
              "      fill: #D2E3FC;\n",
              "    }\n",
              "\n",
              "    [theme=dark] .colab-df-convert:hover {\n",
              "      background-color: #434B5C;\n",
              "      box-shadow: 0px 1px 3px 1px rgba(0, 0, 0, 0.15);\n",
              "      filter: drop-shadow(0px 1px 2px rgba(0, 0, 0, 0.3));\n",
              "      fill: #FFFFFF;\n",
              "    }\n",
              "  </style>\n",
              "\n",
              "      <script>\n",
              "        const buttonEl =\n",
              "          document.querySelector('#df-64f5c2a2-d828-4567-af5c-af0900dbe17b button.colab-df-convert');\n",
              "        buttonEl.style.display =\n",
              "          google.colab.kernel.accessAllowed ? 'block' : 'none';\n",
              "\n",
              "        async function convertToInteractive(key) {\n",
              "          const element = document.querySelector('#df-64f5c2a2-d828-4567-af5c-af0900dbe17b');\n",
              "          const dataTable =\n",
              "            await google.colab.kernel.invokeFunction('convertToInteractive',\n",
              "                                                     [key], {});\n",
              "          if (!dataTable) return;\n",
              "\n",
              "          const docLinkHtml = 'Like what you see? Visit the ' +\n",
              "            '<a target=\"_blank\" href=https://colab.research.google.com/notebooks/data_table.ipynb>data table notebook</a>'\n",
              "            + ' to learn more about interactive tables.';\n",
              "          element.innerHTML = '';\n",
              "          dataTable['output_type'] = 'display_data';\n",
              "          await google.colab.output.renderOutput(dataTable, element);\n",
              "          const docLink = document.createElement('div');\n",
              "          docLink.innerHTML = docLinkHtml;\n",
              "          element.appendChild(docLink);\n",
              "        }\n",
              "      </script>\n",
              "    </div>\n",
              "  </div>\n",
              "  "
            ]
          },
          "metadata": {},
          "execution_count": 43
        }
      ]
    },
    {
      "cell_type": "markdown",
      "source": [
        "Data scaling transformation"
      ],
      "metadata": {
        "id": "rjge8htw0Xqr"
      }
    },
    {
      "cell_type": "markdown",
      "source": [
        "Before transformation"
      ],
      "metadata": {
        "id": "QQwX-sOu1IdX"
      }
    },
    {
      "cell_type": "code",
      "source": [
        "df_mm = melb_data[['Distance','Price']]\n",
        "col_names=['Distance','Price']\n",
        "df_mm = pd.DataFrame(df_mm, columns=col_names)\n",
        "\n",
        "fig, (ax1) = plt.subplots(ncols=1, figsize=(10, 8))\n",
        "ax1.set_title('After MinMaxScaler')\n",
        "\n",
        "sns.kdeplot(df_mm['Distance'], ax=ax1)\n",
        "sns.kdeplot(df_mm['Price'], ax=ax1)\n"
      ],
      "metadata": {
        "colab": {
          "base_uri": "https://localhost:8080/",
          "height": 531
        },
        "id": "ZtbRbulN0sph",
        "outputId": "dddf01ef-da28-4144-ea07-81f4bd7cd90f"
      },
      "execution_count": null,
      "outputs": [
        {
          "output_type": "execute_result",
          "data": {
            "text/plain": [
              "<matplotlib.axes._subplots.AxesSubplot at 0x7fa6e372ff90>"
            ]
          },
          "metadata": {},
          "execution_count": 51
        },
        {
          "output_type": "display_data",
          "data": {
            "text/plain": [
              "<Figure size 720x576 with 1 Axes>"
            ],
            "image/png": "[encoded data removed]"
          },
          "metadata": {
            "needs_background": "light"
          }
        }
      ]
    },
    {
      "cell_type": "markdown",
      "source": [
        "After transformation"
      ],
      "metadata": {
        "id": "R_HjfAaP1Lo-"
      }
    },
    {
      "cell_type": "markdown",
      "source": [],
      "metadata": {
        "id": "zGfoPznU17HO"
      }
    },
    {
      "cell_type": "markdown",
      "source": [],
      "metadata": {
        "id": "h0UxnkQl2RtW"
      }
    },
    {
      "cell_type": "code",
      "source": [
        "from sklearn import preprocessing\n",
        "import matplotlib\n",
        "import matplotlib.pyplot as plt\n",
        "import seaborn as sns\n",
        "\n",
        "mm_scaler = preprocessing.MinMaxScaler()\n",
        "df_mm = mm_scaler.fit_transform(melb_data[['Distance','Price']])\n",
        "col_names=['Distance','Price']\n",
        "df_mm = pd.DataFrame(df_mm, columns=col_names)\n",
        "\n",
        "fig, (ax1) = plt.subplots(ncols=1, figsize=(10, 8))\n",
        "ax1.set_title('After MinMaxScaler')\n",
        "\n",
        "sns.kdeplot(df_mm['Distance'], ax=ax1)\n",
        "sns.kdeplot(df_mm['Price'], ax=ax1)\n"
      ],
      "metadata": {
        "colab": {
          "base_uri": "https://localhost:8080/",
          "height": 531
        },
        "id": "TWaIHqqbz-AG",
        "outputId": "efa56516-2801-47dc-f63a-d860ac3bc89c"
      },
      "execution_count": null,
      "outputs": [
        {
          "output_type": "execute_result",
          "data": {
            "text/plain": [
              "<matplotlib.axes._subplots.AxesSubplot at 0x7fa6e84e8410>"
            ]
          },
          "metadata": {},
          "execution_count": 50
        },
        {
          "output_type": "display_data",
          "data": {
            "text/plain": [
              "<Figure size 720x576 with 1 Axes>"
            ],
            "image/png": "[encoded data removed]"
          },
          "metadata": {
            "needs_background": "light"
          }
        }
      ]
    },
    {
      "cell_type": "code",
      "source": [],
      "metadata": {
        "id": "uwuTG7v71Da-"
      },
      "execution_count": null,
      "outputs": []
    },
    {
      "cell_type": "markdown",
      "source": [
        "1. Hold-out (data)\n",
        "Rather than using all of our data for training, we can simply split our dataset into two sets: training and testing. A common split ratio is 80% for training and 20% for testing. We train our model until it performs well not only on the training set but also for the testing set. This indicates good generalization capability since the testing set represents unseen data that were not used for training. However, this approach would require a sufficiently large dataset to train on even after splitting.\n",
        "2. Cross-validation (data)\n",
        "We can split our dataset into k groups (k-fold cross-validation). We let one of the groups to be the testing set (please see hold-out explanation) and the others as the training set, and repeat this process until each individual group has been used as the testing set (e.g., k repeats). Unlike hold-out, cross-validation allows all data to be eventually used for training but is also more computationally expensive than hold-out.\n",
        "\n",
        "3. Data augmentation (data)\n",
        "A larger dataset would reduce overfitting. If we cannot gather more data and are constrained to the data we have in our current dataset, we can apply data augmentation to artificially increase the size of our dataset. For example, if we are training for an image classification task, we can perform various image transformations to our image dataset (e.g., flipping, rotating, rescaling, shifting).\n",
        "\n",
        "4. Feature selection (data)\n",
        "If we have only a limited amount of training samples, each with a large number of features, we should only select the most important features for training so that our model doesn’t need to learn for so many features and eventually overfit. We can simply test out different features, train individual models for these features, and evaluate generalization capabilities, or use one of the various widely used feature selection methods.\n",
        "\n",
        "5. L1 / L2 regularization (learning algorithm)\n",
        "Regularization is a technique to constrain our network from learning a model that is too complex, which may therefore overfit. In L1 or L2 regularization, we can add a penalty term on the cost function to push the estimated coefficients towards zero (and not take more extreme values). L2 regularization allows weights to decay towards zero but not to zero, while L1 regularization allows weights to decay to zero.\n",
        "\n",
        "6. Remove layers / number of units per layer (model)\n",
        "As mentioned in L1 or L2 regularization, an over-complex model may more likely overfit. Therefore, we can directly reduce the model’s complexity by removing layers and reduce the size of our model. We may further reduce complexity by decreasing the number of neurons in the fully-connected layers. We should have a model with a complexity that sufficiently balances between underfitting and overfitting for our task.\n",
        "\n",
        "7. Dropout (model)\n",
        "By applying dropout, which is a form of regularization, to our layers, we ignore a subset of units of our network with a set probability. Using dropout, we can reduce interdependent learning among units, which may have led to overfitting. However, with dropout, we would need more epochs for our model to converge.\n",
        "\n",
        "8. Early stopping (model)\n",
        "We can first train our model for an arbitrarily large number of epochs and plot the validation loss graph (e.g., using hold-out). Once the validation loss begins to degrade (e.g., stops decreasing but rather begins increasing), we stop the training and save the current model. We can implement this either by monitoring the loss graph or set an early stopping trigger. The saved model would be the optimal model for generalization among different training epoch values.\n",
        "\n",
        "You have reached the end of the article! Hopefully, you now have a toolbox of methods to battle overfitting ⚔️.\n",
        "\n"
      ],
      "metadata": {
        "id": "F7kRAj4V2S3S"
      }
    }
  ]
}